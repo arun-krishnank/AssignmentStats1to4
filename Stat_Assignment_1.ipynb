{
 "cells": [
  {
   "cell_type": "markdown",
   "metadata": {},
   "source": [
    "# 2.1. Problem Statement: STATISTICS 1"
   ]
  },
  {
   "cell_type": "markdown",
   "metadata": {},
   "source": [
    "1. You survey households in your area to find the average rent they are paying. Find the standard deviation from the following data:\n",
    "$1550, $1700, $900, $850, $1000, $950."
   ]
  },
  {
   "cell_type": "code",
   "execution_count": 3,
   "metadata": {},
   "outputs": [
    {
     "name": "stdout",
     "output_type": "stream",
     "text": [
      "Average rent paid (in dollars) is: 1158.33\n",
      "Standard Deviation from the rent data is: 367.99\n"
     ]
    }
   ],
   "source": [
    "from math import sqrt\n",
    "def mean(arr):\n",
    "    return sum(arr)/len(arr)\n",
    "def var(arr):\n",
    "    m = mean(arr)\n",
    "    arr2 = [(x-m)**2 for x in arr]\n",
    "    return sum(arr2)/(len(arr2)-1)\n",
    "\n",
    "rent_list = [1550,1700, 900, 850, 1000, 950]\n",
    "print(\"Average rent paid (in dollars) is: %.2f\"%mean(rent_list)) \n",
    "print(\"Standard Deviation from the rent data is: %.2f\"%sqrt(var(rent_list))) "
   ]
  },
  {
   "cell_type": "markdown",
   "metadata": {},
   "source": [
    "2. Find the variance for the following set of data representing trees in California (heights in feet):\n",
    "3, 21, 98, 203, 17, 9"
   ]
  },
  {
   "cell_type": "code",
   "execution_count": 5,
   "metadata": {},
   "outputs": [
    {
     "name": "stdout",
     "output_type": "stream",
     "text": [
      "Variance for the above set of data representing tree heights in california is: 6219.90\n"
     ]
    }
   ],
   "source": [
    "import math\n",
    "height_data = [3,21,98,203,17,9]\n",
    "mean = sum(height_data)/len(height_data)\n",
    "var = sum([(x-mean)**2 for x in height_data])/(len(height_data)-1)\n",
    "print(\"Variance for the above set of data representing tree heights in california is: %.2f\"%var)"
   ]
  },
  {
   "cell_type": "markdown",
   "metadata": {},
   "source": [
    "3. In a class on 100 students, 80 students passed in all subjects, 10 failed in one subject, 7 failed in two subjects and 3 failed in three subjects. Find the probability distribution of the variable for number of subjects a student from the given class has failed in."
   ]
  },
  {
   "cell_type": "code",
   "execution_count": 14,
   "metadata": {},
   "outputs": [
    {
     "data": {
      "image/png": "[encoded data removed]",
      "text/plain": [
       "<Figure size 432x288 with 1 Axes>"
      ]
     },
     "metadata": {
      "needs_background": "light"
     },
     "output_type": "display_data"
    }
   ],
   "source": [
    "%matplotlib inline\n",
    "import matplotlib.pyplot as plt\n",
    "num_of_students = 100\n",
    "num_of_full_pass = 80\n",
    "num_of_one_fail = 10\n",
    "num_of_two_fail = 7\n",
    "num_of_three_fail = 3\n",
    "\n",
    "subj_list=[80,10,7,3]\n",
    "#x denotes number of subjects student has failed in\n",
    "x = [0,1,2,3]\n",
    "\n",
    "#y denotes probability values that student failed for diff number of subjects\n",
    "y = [x/num_of_students for x in subj_list]\n",
    "\n",
    "plt.bar(x,y,width=0.2)\n",
    "plt.xlabel('Number of subjects failed')\n",
    "plt.ylabel('Probability of failure')\n",
    "plt.xticks(x,['full pass','one fail','two fail','three fail'])\n",
    "plt.plot()\n",
    "\n",
    "for i,j in zip(x,y):\n",
    "    plt.annotate(y[i],xy=(i-0.1,j+0.005))"
   ]
  }
 ],
 "metadata": {
  "kernelspec": {
   "display_name": "Python 3",
   "language": "python",
   "name": "python3"
  },
  "language_info": {
   "codemirror_mode": {
    "name": "ipython",
    "version": 3
   },
   "file_extension": ".py",
   "mimetype": "text/x-python",
   "name": "python",
   "nbconvert_exporter": "python",
   "pygments_lexer": "ipython3",
   "version": "3.7.3"
  }
 },
 "nbformat": 4,
 "nbformat_minor": 2
}
