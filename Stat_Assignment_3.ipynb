{
 "cells": [
  {
   "cell_type": "markdown",
   "metadata": {},
   "source": [
    "# 2.3. Problem Statement: STATISTICS 3"
   ]
  },
  {
   "cell_type": "markdown",
   "metadata": {},
   "source": [
    "# Problem Statement 1"
   ]
  },
  {
   "cell_type": "markdown",
   "metadata": {},
   "source": [
    "Blood glucose levels for obese patients have a mean of 100 with a standard deviation of 15. A researcher thinks that a diet high in raw cornstarch will have a positive effect on blood glucose levels. A sample of 36 patients who have tried the raw cornstarch diet have a mean glucose level of 108. Test the hypothesis that the raw cornstarch had an effect or not."
   ]
  },
  {
   "cell_type": "markdown",
   "metadata": {},
   "source": [
    "# Solution"
   ]
  },
  {
   "cell_type": "markdown",
   "metadata": {},
   "source": [
    "Since our sample has more than 30 items we can use the Z test here.<br/>\n",
    "pop_mean = 100\n",
    "pop_std = 15\n",
    "sample_size = 36\n",
    "sample_mean = 108\n",
    "\n",
    "Taking the null hypothesis H0 as the fact that the raw cornstarch has no effect on blood glucose levels, and the alternative hypothesis Ha as the fact that the raw cornstarch has a positive effect on the blood glucose level.\n",
    "H0: $\\mu$ = 100\n",
    "Ha: $\\mu$ > 100\n",
    "\n",
    "Xstd = (sample_mean - pop_mean)/(pop_std/sqrt(sample_size))\n",
    "         "
   ]
  },
  {
   "cell_type": "code",
   "execution_count": 2,
   "metadata": {},
   "outputs": [
    {
     "name": "stdout",
     "output_type": "stream",
     "text": [
      "3.2\n"
     ]
    }
   ],
   "source": [
    "Xstd = (108 - 100)/(15/6)\n",
    "print(Xstd)"
   ]
  },
  {
   "cell_type": "markdown",
   "metadata": {},
   "source": [
    "Standardized Sample mean is 3.2\n",
    "Since no confidence interval is specified we assume a 95% CI for which z value would be 1.96(from the Z-Table).\n",
    "\n",
    "Since the standardized value(3.2) is greater than the z-value(1.96) we have to reject the null hypothesis and accept the alternative hypothesis which means that the raw cornstarch has a positive effect on blood glucose levels."
   ]
  },
  {
   "cell_type": "markdown",
   "metadata": {},
   "source": [
    "# Problem Statement 2"
   ]
  },
  {
   "cell_type": "markdown",
   "metadata": {},
   "source": [
    "In one state, 52% of the voters are Republicans, and 48% are Democrats. In a second state, 47% of the voters are Republicans, and 53% are Democrats. Suppose a simple random sample of 100 voters are surveyed from each state.\n",
    "What is the probability that the survey will show a greater percentage of Republican voters in the second state than in the first state?"
   ]
  },
  {
   "cell_type": "markdown",
   "metadata": {},
   "source": [
    "# Solution"
   ]
  },
  {
   "cell_type": "markdown",
   "metadata": {},
   "source": [
    "Number of Samples from first state(n1) = 100 <br/>\n",
    "Number of Samples from second state(n2) = 100 <br/>\n",
    "Probability of choosing a republican from first state (P1) = 0.52, since 52 % of voters in first state are republicans.<br/>\n",
    "Probability of choosing a republican from second state(P2) = 0.47, since 47 % of voters in second state are republicans.<br/>\n",
    "Let p1 be the proportion of republican voters in the sameple taken from the first state and p2 be the proportion of republican voters in the sample taken from the second state."
   ]
  },
  {
   "cell_type": "markdown",
   "metadata": {},
   "source": [
    "Since <br/>n1$*$P1 = 100$*$0.52 = 52 <br/> n1$*$(1 - P1) = 100$*$0.48 = 48 <br/> n2$*$P2 = 100$*$0.47 = 47 <br/> n2$*$(1 - P2) = 100$*$0.53 = 53 <br/> are each greater than 10, the sample size is large enough to be modelled as normally distributed"
   ]
  },
  {
   "cell_type": "markdown",
   "metadata": {},
   "source": [
    "Calculating the mean of the difference between the sample proportions: <br/>\n",
    "$\\mu$=E(p1-p2) = P1-P2 = 0.52-0.47 = 0.05"
   ]
  },
  {
   "cell_type": "markdown",
   "metadata": {},
   "source": [
    "Calculating the standard devaiation of the difference between the sample proportions: <br/>\n",
    "$ \\sigma $ = sqrt(($ \\sigma $1^2 / n1) + ($ \\sigma $2^2 / n2)) <br/>\n",
    "where\n",
    "$ \\sigma $1^2 = P1$*$(1-P1) = 0.52$*$0.48 = 0.2496 <br/>\n",
    "$ \\sigma $2^2 = P2$*$(1-P2) = 0.47$*$0.53 = 0.2491 <br/>\n",
    "<br/>\n",
    "So $ \\sigma $ = sqrt((0.2496/100) + (0.2491/100)) = sqrt(0.004987) = 0.0706 <br/>"
   ]
  },
  {
   "cell_type": "markdown",
   "metadata": {},
   "source": [
    "We are expected to find the probability that p1 < p2, so we have to find the probability that p1-p2 < 0, for this we transform p1-p2 to a normal random variable x and standardize x as: <br/>\n",
    "z = (x - $\\mu$)/$\\sigma$ <br/>\n",
    "so z = (0 - 0.05)/0.0706 = -0.70821529745 ~= -0.7082 <br/>\n",
    "<br/>\n",
    "Corresponding probability value is:"
   ]
  },
  {
   "cell_type": "code",
   "execution_count": 30,
   "metadata": {},
   "outputs": [
    {
     "data": {
      "text/plain": [
       "0.239"
      ]
     },
     "execution_count": 30,
     "metadata": {},
     "output_type": "execute_result"
    }
   ],
   "source": [
    "z = (0 - 0.05)/0.0706\n",
    "from scipy import stats\n",
    "pz1=round(stats.norm.cdf(z), 3)\n",
    "pz1"
   ]
  },
  {
   "cell_type": "markdown",
   "metadata": {},
   "source": [
    "So probability of z being -0.7082 is 0.239 , so the probability of p1-p2 being less than 0 is 0.239. <br/>\n",
    "Hence there is a 23.9 % , approximately 24 % probability that the survey will show a greater percentage of Republican voters in the second state than in the first state?\n"
   ]
  },
  {
   "cell_type": "markdown",
   "metadata": {},
   "source": [
    "# Problem Statement 3"
   ]
  },
  {
   "cell_type": "markdown",
   "metadata": {},
   "source": [
    "You take the SAT and score 1100. The mean score for the SAT is 1026 and the standard deviation is 209. How well did you score on the test compared to the average test taker?"
   ]
  },
  {
   "cell_type": "markdown",
   "metadata": {},
   "source": [
    "# Solution"
   ]
  },
  {
   "cell_type": "code",
   "execution_count": 26,
   "metadata": {},
   "outputs": [
    {
     "name": "stdout",
     "output_type": "stream",
     "text": [
      "0.35406698564593303\n",
      "Probability corresponding to zscore is: 0.6384\n"
     ]
    }
   ],
   "source": [
    "from scipy import stats\n",
    "import numpy as np\n",
    "x = 1100\n",
    "mean = 1026\n",
    "std = 209\n",
    "\n",
    "zscore = (1100-1026)/209\n",
    "print(zscore)\n",
    "print(\"Probability corresponding to zscore is:\",round(stats.norm.cdf(zscore),4))"
   ]
  },
  {
   "cell_type": "markdown",
   "metadata": {},
   "source": [
    "So this score has a 63.84% probability of occurence, while mean has a 50% chance of occuring, so our score is 63.84-50 = 13.84% better compared to mean score which is the score of average test taker."
   ]
  }
 ],
 "metadata": {
  "kernelspec": {
   "display_name": "Python 3",
   "language": "python",
   "name": "python3"
  },
  "language_info": {
   "codemirror_mode": {
    "name": "ipython",
    "version": 3
   },
   "file_extension": ".py",
   "mimetype": "text/x-python",
   "name": "python",
   "nbconvert_exporter": "python",
   "pygments_lexer": "ipython3",
   "version": "3.7.3"
  }
 },
 "nbformat": 4,
 "nbformat_minor": 2
}
