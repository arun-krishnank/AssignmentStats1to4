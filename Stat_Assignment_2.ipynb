{
 "cells": [
  {
   "cell_type": "markdown",
   "metadata": {},
   "source": [
    "# 2.2. Problem Statement: STATISTICS 2"
   ]
  },
  {
   "cell_type": "markdown",
   "metadata": {},
   "source": [
    "1. A test is conducted which is consisting of 20 MCQs (multiple choices questions) with every MCQ having its four options out of which only one is correct. Determine the probability that a person undertaking that test has answered exactly 5 questions wrong."
   ]
  },
  {
   "cell_type": "markdown",
   "metadata": {},
   "source": [
    "## Solution"
   ]
  },
  {
   "cell_type": "markdown",
   "metadata": {},
   "source": [
    "Number of questions (n) = 20 <br/>\n",
    "Number of correct answers needed (k) = 15 <br/>\n",
    "Number of wrong answers (n-k) = 5 <br/>\n",
    "probability of getting right answer(p) = 1/4 <br/> \n",
    "probability of getting wrong answer (1-p) = 3/4 <br/>\n",
    "Applying Binomial Distribution formula here: <br/>"
   ]
  },
  {
   "cell_type": "code",
   "execution_count": 3,
   "metadata": {},
   "outputs": [
    {
     "name": "stdout",
     "output_type": "stream",
     "text": [
      "The probability that a person undertaking that test has answered exactly 5 questions wrong is 3.4264958230778435e-06\n"
     ]
    }
   ],
   "source": [
    "import scipy\n",
    "from scipy import stats\n",
    "k = 15\n",
    "n = 20\n",
    "p = 0.25\n",
    "prob = stats.binom.pmf(k,n,p)\n",
    "print(\"The probability that a person undertaking that test has answered exactly 5 questions wrong is\",prob)"
   ]
  },
  {
   "cell_type": "markdown",
   "metadata": {},
   "source": [
    "2. A die marked A to E is rolled 50 times. Find the probability of getting a “D” exactly 5 times."
   ]
  },
  {
   "cell_type": "markdown",
   "metadata": {},
   "source": [
    "## Solution"
   ]
  },
  {
   "cell_type": "markdown",
   "metadata": {},
   "source": [
    "Number of rolls (n) = 50 <br/>\n",
    "Number of D's needed (k) = 5 <br/>\n",
    "Number of others (n-k) = 45 <br/>\n",
    "probability of getting D(p) = 1/5 <br/> \n",
    "probability of getting any other face (1-p) = 4/5 <br/>\n",
    "Applying Binomial Distribution formula here: <br/>"
   ]
  },
  {
   "cell_type": "code",
   "execution_count": 6,
   "metadata": {},
   "outputs": [
    {
     "name": "stdout",
     "output_type": "stream",
     "text": [
      "The probability of getting a 'D' exactly 5 times is 0.029531204310523224\n"
     ]
    }
   ],
   "source": [
    "import scipy\n",
    "from scipy import stats\n",
    "n = 50\n",
    "k = 5\n",
    "p = 0.2\n",
    "reqd_prob = stats.binom.pmf(k,n,p)\n",
    "print(\"The probability of getting a 'D' exactly 5 times is\",reqd_prob)"
   ]
  },
  {
   "cell_type": "markdown",
   "metadata": {},
   "source": [
    "3. Two balls are drawn at random in succession without replacement from an urn containing 4 red balls and 6 black balls.\n",
    "Find the probabilities of all the possible outcomes."
   ]
  },
  {
   "cell_type": "code",
   "execution_count": 10,
   "metadata": {},
   "outputs": [
    {
     "name": "stdout",
     "output_type": "stream",
     "text": [
      "Probability of getting 2 red balls consecutively is 0.13333333333333333\n",
      "Probability of getting a red ball first followed by a black ball is 0.26666666666666666\n",
      "Probability of getting a black ball first followed by a red ball is 0.26666666666666666\n",
      "Probability of getting 2 black balls consecutively is 0.3333333333333333\n"
     ]
    }
   ],
   "source": [
    "# The possible outcomes are (red,black), (red,red), (black,red) and (black,black) \n",
    "# Total number of balls  = 10, prob of choosing a red ball = (number of red balls)/(total number of balls), similarly prob of choosing a black ball = (number of black balls)/(total number of balls)\n",
    "# Number of red balls = 4, number of black balls = 6\n",
    "p_red_red = (4/10) * (3/9) # Probability of getting 2 red balls consecutively ie (red,red) situation\n",
    "p_red_black = (4/10) * (6/9) # Probability of getting a red ball first followed by a black ball ie (red,black) situation\n",
    "p_black_red = (6/10) * (4/9) # Probability of getting a black ball first followed by a red ball ie (black,red) situation\n",
    "p_black_black = (6/10) * (5/9) # Probability of getting 2 black balls consecutively ie (black,black) situation\n",
    "\n",
    "print(\"Probability of getting 2 red balls consecutively is\",p_red_red)\n",
    "print(\"Probability of getting a red ball first followed by a black ball is\",p_red_black)\n",
    "print(\"Probability of getting a black ball first followed by a red ball is\",p_black_red)\n",
    "print(\"Probability of getting 2 black balls consecutively is\",p_black_black)"
   ]
  }
 ],
 "metadata": {
  "kernelspec": {
   "display_name": "Python 3",
   "language": "python",
   "name": "python3"
  },
  "language_info": {
   "codemirror_mode": {
    "name": "ipython",
    "version": 3
   },
   "file_extension": ".py",
   "mimetype": "text/x-python",
   "name": "python",
   "nbconvert_exporter": "python",
   "pygments_lexer": "ipython3",
   "version": "3.7.3"
  }
 },
 "nbformat": 4,
 "nbformat_minor": 2
}
