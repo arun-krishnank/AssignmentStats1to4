{
 "cells": [
  {
   "cell_type": "markdown",
   "metadata": {},
   "source": [
    "# 2.4. Problem Statement: STATISTICS 4\n"
   ]
  },
  {
   "cell_type": "markdown",
   "metadata": {},
   "source": [
    "## Problem 1"
   ]
  },
  {
   "cell_type": "markdown",
   "metadata": {},
   "source": [
    "Is gender independent of education level? A random sample of 395 people were surveyed and each person was asked to report the highest education level they obtained.<br/> The data that resulted from the survey is summarized in the following table:\n",
    "|------------| High-School | Bachelor | Masters | Ph.D. | Total |\n",
    "-----------------------------------------------------------------------------------\n",
    "|Female--|60----------------|54-----------|46----------|41------|201---|\n",
    "----------------------------------------------------------------------------------\n",
    "|Male-----|40-----------------|44-----------|53----------|57------|194---|\n",
    "-----------------------------------------------------------------------------------\n",
    "|Total-----|100---------------|98-----------|99----------|98------|395---|\n",
    "-----------------------------------------------------------------------------------\n",
    "<br/>\n",
    "Question: Are gender and education level dependent at 5% level of significance? In other words, given the data collected above, is there a relationship between the gender of an individual and the level of education that they have obtained?"
   ]
  },
  {
   "cell_type": "markdown",
   "metadata": {},
   "source": [
    "## Solution"
   ]
  },
  {
   "cell_type": "markdown",
   "metadata": {},
   "source": [
    "Since we are testing independence of two categorical variables (gender and education), we can use the Chi-square test of independence.<br/>\n",
    "Here Null hypothesis (H0) is that the gender and education are independent. <br/>\n",
    "Alternative Hypothesis(Ha) is that there is a dependency/relationship between gender and education"
   ]
  },
  {
   "cell_type": "code",
   "execution_count": 4,
   "metadata": {},
   "outputs": [
    {
     "data": {
      "text/plain": [
       "array([[60, 54, 46, 41],\n",
       "       [40, 44, 53, 57]])"
      ]
     },
     "execution_count": 4,
     "metadata": {},
     "output_type": "execute_result"
    }
   ],
   "source": [
    "import numpy as np\n",
    "from scipy import stats\n",
    "male_array=[40,44,53,57]\n",
    "female_array=[60,54,46,41]\n",
    "fobs = np.array([female_array,male_array])\n",
    "fobs"
   ]
  },
  {
   "cell_type": "code",
   "execution_count": 8,
   "metadata": {},
   "outputs": [
    {
     "data": {
      "text/plain": [
       "8.006066246262538"
      ]
     },
     "execution_count": 8,
     "metadata": {},
     "output_type": "execute_result"
    }
   ],
   "source": [
    "# Performing the chisquare test\n",
    "ch2_stat, pvalue, dof, fexp = stats.chi2_contingency(fobs)\n",
    "ch2_stat"
   ]
  },
  {
   "cell_type": "code",
   "execution_count": 12,
   "metadata": {},
   "outputs": [
    {
     "name": "stdout",
     "output_type": "stream",
     "text": [
      "chi-square statistic is:\n",
      "8.006066246262538\n",
      "\n",
      "p-value is:\n",
      "0.045886500891747214\n",
      "\n",
      "Degrees of freedom is:\n",
      "3\n",
      "\n",
      "Expected values are:\n",
      "[[50.88607595 49.86835443 50.37721519 49.86835443]\n",
      " [49.11392405 48.13164557 48.62278481 48.13164557]]\n"
     ]
    }
   ],
   "source": [
    "print(\"chi-square statistic is:\")\n",
    "print(ch2_stat)\n",
    "print()\n",
    "print(\"p-value is:\")\n",
    "print(pvalue)\n",
    "print()\n",
    "print(\"Degrees of freedom is:\")\n",
    "print(dof)\n",
    "print()\n",
    "print(\"Expected values are:\")\n",
    "print(fexp)"
   ]
  },
  {
   "cell_type": "code",
   "execution_count": 13,
   "metadata": {},
   "outputs": [
    {
     "name": "stdout",
     "output_type": "stream",
     "text": [
      "The critical value for chi-square with 95% confidence and 3 dof is:\n"
     ]
    },
    {
     "data": {
      "text/plain": [
       "7.814727903251179"
      ]
     },
     "execution_count": 13,
     "metadata": {},
     "output_type": "execute_result"
    }
   ],
   "source": [
    "print(\"The critical value for chi-square with 95% confidence and 3 dof is:\")\n",
    "crit = stats.chi2.ppf(0.95,3)\n",
    "crit"
   ]
  },
  {
   "cell_type": "markdown",
   "metadata": {},
   "source": [
    "Since chi-square statistic 8.006 > critical value 7.814 , we can reject the null hypothesis and accept the alternative hypothesis. <br/>\n",
    "So the conclusion is that there is a relationship between the gender of an individual and the level of education that they have obtained"
   ]
  },
  {
   "cell_type": "markdown",
   "metadata": {},
   "source": [
    "## Problem 2"
   ]
  },
  {
   "cell_type": "markdown",
   "metadata": {},
   "source": [
    "2. Using the following data, perform a one-way analysis of variance using α=.05. Write up the results in APA format. <br/>\n",
    "[Group1: 51, 45, 33, 45, 67] <br/>\n",
    "[Group2: 23, 43, 23, 43, 45] <br/>\n",
    "[Group3: 56, 76, 74, 87, 56] <br/>"
   ]
  },
  {
   "cell_type": "markdown",
   "metadata": {},
   "source": [
    "## Solution"
   ]
  },
  {
   "cell_type": "markdown",
   "metadata": {},
   "source": [
    "Null Hypothesis H0: All groups have same mean. <br/>\n",
    "Alternate Hypothesis Ha: The group means are all not equal, atleast one group has a different mean.<br/>"
   ]
  },
  {
   "cell_type": "code",
   "execution_count": 16,
   "metadata": {},
   "outputs": [],
   "source": [
    "import numpy as np\n",
    "from scipy import stats\n",
    "grp1=[51,45,33,45,67]\n",
    "grp2=[23,43,23,43,45]\n",
    "grp3=[56,76,74,87,56]"
   ]
  },
  {
   "cell_type": "code",
   "execution_count": 18,
   "metadata": {},
   "outputs": [],
   "source": [
    "fval,pval = stats.f_oneway(grp1,grp2,grp3)"
   ]
  },
  {
   "cell_type": "code",
   "execution_count": 20,
   "metadata": {},
   "outputs": [
    {
     "name": "stdout",
     "output_type": "stream",
     "text": [
      "F-value of the one way ANOVA is: 9.747205503009463\n",
      "p-value of the F-distribution is: 0.0030597541434430556\n"
     ]
    }
   ],
   "source": [
    "print(\"F-value of the one way ANOVA is:\",fval)\n",
    "print(\"p-value of the F-distribution is:\",pval)"
   ]
  },
  {
   "cell_type": "code",
   "execution_count": 59,
   "metadata": {},
   "outputs": [
    {
     "data": {
      "text/html": [
       "<div>\n",
       "<style scoped>\n",
       "    .dataframe tbody tr th:only-of-type {\n",
       "        vertical-align: middle;\n",
       "    }\n",
       "\n",
       "    .dataframe tbody tr th {\n",
       "        vertical-align: top;\n",
       "    }\n",
       "\n",
       "    .dataframe thead th {\n",
       "        text-align: right;\n",
       "    }\n",
       "</style>\n",
       "<table border=\"1\" class=\"dataframe\">\n",
       "  <thead>\n",
       "    <tr style=\"text-align: right;\">\n",
       "      <th></th>\n",
       "      <th>sum_sq</th>\n",
       "      <th>df</th>\n",
       "      <th>F</th>\n",
       "      <th>PR(&gt;F)</th>\n",
       "    </tr>\n",
       "  </thead>\n",
       "  <tbody>\n",
       "    <tr>\n",
       "      <th>variable</th>\n",
       "      <td>3022.933333</td>\n",
       "      <td>2.0</td>\n",
       "      <td>9.747206</td>\n",
       "      <td>0.00306</td>\n",
       "    </tr>\n",
       "    <tr>\n",
       "      <th>Residual</th>\n",
       "      <td>1860.800000</td>\n",
       "      <td>12.0</td>\n",
       "      <td>NaN</td>\n",
       "      <td>NaN</td>\n",
       "    </tr>\n",
       "  </tbody>\n",
       "</table>\n",
       "</div>"
      ],
      "text/plain": [
       "               sum_sq    df         F   PR(>F)\n",
       "variable  3022.933333   2.0  9.747206  0.00306\n",
       "Residual  1860.800000  12.0       NaN      NaN"
      ]
     },
     "execution_count": 59,
     "metadata": {},
     "output_type": "execute_result"
    }
   ],
   "source": [
    "import pandas as pd\n",
    "import statsmodels.api as sm\n",
    "from statsmodels.formula.api import ols \n",
    "df = pd.DataFrame({'grp1':grp1,'grp2':grp2,'grp3':grp3})\n",
    "df['id']=df.reset_index()['index']+1\n",
    "df_mod = pd.melt(df,['id'],['grp1','grp2','grp3'])\n",
    "model = ols('value ~ variable', data=df_mod).fit()\n",
    "anova_table = sm.stats.anova_lm(model, typ=2)\n",
    "anova_table"
   ]
  },
  {
   "cell_type": "markdown",
   "metadata": {},
   "source": [
    "Since the p-value 0.003 < 0.05 We can reject the null hypothesis and accept the alternat hypothesis.<br/>\n",
    "So we can conclude that atleast one group mean , among the three, is different from the other group means.<br/>"
   ]
  },
  {
   "cell_type": "markdown",
   "metadata": {},
   "source": [
    "Further using F-test to test hypothesis.<br/>"
   ]
  },
  {
   "cell_type": "code",
   "execution_count": 64,
   "metadata": {},
   "outputs": [
    {
     "data": {
      "text/plain": [
       "3.8852938346523933"
      ]
     },
     "execution_count": 64,
     "metadata": {},
     "output_type": "execute_result"
    }
   ],
   "source": [
    "from scipy.stats import f\n",
    "F_critical = f.ppf(q=1-0.05,dfn=2,dfd=12)\n",
    "F_critical"
   ]
  },
  {
   "cell_type": "markdown",
   "metadata": {},
   "source": [
    "Since F-test value (9.7472) > critical value(F_critical) for respective dof(2,12) we can reject the null hypothesis and accept the alternate hypothesis.<br/>\n",
    "So we can conclude that atleast one group mean , among the three, is different from the other group means."
   ]
  },
  {
   "cell_type": "markdown",
   "metadata": {},
   "source": [
    "## Problem 3"
   ]
  },
  {
   "cell_type": "markdown",
   "metadata": {},
   "source": [
    "Calculate F Test for given 10, 20, 30, 40, 50 and 5,10,15, 20, 25. <br/>\n",
    "For 10, 20, 30, 40, 50:"
   ]
  },
  {
   "cell_type": "markdown",
   "metadata": {},
   "source": [
    "## Solution"
   ]
  },
  {
   "cell_type": "code",
   "execution_count": 65,
   "metadata": {},
   "outputs": [
    {
     "name": "stdout",
     "output_type": "stream",
     "text": [
      "Variance of first array: 250.0\n",
      "Variance of second array: 62.5\n",
      "F Test for given data: 4.0\n"
     ]
    }
   ],
   "source": [
    "from statistics import stdev\n",
    "arr1=[10,20,30,40,50]\n",
    "arr2=[5,10,15,20,25]\n",
    "VarA = stdev(arr1)**2\n",
    "print(\"Variance of first array:\",VarA)\n",
    "VarB = stdev(arr2)**2\n",
    "print(\"Variance of second array:\",VarB)\n",
    "ftest = VarA/VarB\n",
    "print(\"F Test for given data:\",ftest)"
   ]
  }
 ],
 "metadata": {
  "kernelspec": {
   "display_name": "Python 3",
   "language": "python",
   "name": "python3"
  },
  "language_info": {
   "codemirror_mode": {
    "name": "ipython",
    "version": 3
   },
   "file_extension": ".py",
   "mimetype": "text/x-python",
   "name": "python",
   "nbconvert_exporter": "python",
   "pygments_lexer": "ipython3",
   "version": "3.7.3"
  }
 },
 "nbformat": 4,
 "nbformat_minor": 2
}
